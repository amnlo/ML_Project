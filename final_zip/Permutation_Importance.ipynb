{
 "cells": [
  {
   "cell_type": "markdown",
   "metadata": {},
   "source": [
    "# Calculate feature importance based on permutation"
   ]
  },
  {
   "cell_type": "markdown",
   "metadata": {},
   "source": [
    "Import modules"
   ]
  },
  {
   "cell_type": "code",
   "execution_count": 1,
   "metadata": {},
   "outputs": [
    {
     "name": "stderr",
     "output_type": "stream",
     "text": [
      "C:\\Users\\Lori\\.conda\\envs\\pyt36\\lib\\site-packages\\sklearn\\utils\\deprecation.py:144: FutureWarning: The sklearn.metrics.scorer module is  deprecated in version 0.22 and will be removed in version 0.24. The corresponding classes / functions should instead be imported from sklearn.metrics. Anything that cannot be imported from sklearn.metrics is now part of the private API.\n",
      "  warnings.warn(message, FutureWarning)\n",
      "C:\\Users\\Lori\\.conda\\envs\\pyt36\\lib\\site-packages\\sklearn\\utils\\deprecation.py:144: FutureWarning: The sklearn.feature_selection.base module is  deprecated in version 0.22 and will be removed in version 0.24. The corresponding classes / functions should instead be imported from sklearn.feature_selection. Anything that cannot be imported from sklearn.feature_selection is now part of the private API.\n",
      "  warnings.warn(message, FutureWarning)\n"
     ]
    }
   ],
   "source": [
    "import sys\n",
    "genpath = 'D:/Code'\n",
    "if genpath not in sys.path:\n",
    "    sys.path.append(genpath)\n",
    "\n",
    "import DataSciPy\n",
    "from src.knn.main_knn import *\n",
    "import pandas as pd\n",
    "import src.general_helper as genH\n",
    "import scipy.optimize as opt\n",
    "import pickle\n",
    "import random\n",
    "import eli5"
   ]
  },
  {
   "cell_type": "markdown",
   "metadata": {},
   "source": [
    "Load the prepared KNN-object"
   ]
  },
  {
   "cell_type": "code",
   "execution_count": 2,
   "metadata": {},
   "outputs": [],
   "source": [
    "pth = 'output/knn/knn_class_instances/binary_cls'\n",
    "#with open(pth, 'wb') as knn_file:\n",
    "#   pickle.dump(knnone, knn_file)\n",
    "\n",
    "with open(pth, 'rb') as knn_file:\n",
    "    knnone = pickle.load(knn_file)"
   ]
  },
  {
   "cell_type": "markdown",
   "metadata": {},
   "source": [
    "Prepare the distance matrix based on the type of distance and alpha (for both, we take the one that led to the best accuracy in optimization)."
   ]
  },
  {
   "cell_type": "code",
   "execution_count": 3,
   "metadata": {},
   "outputs": [],
   "source": [
    "knnone.compute_distance(metrics={0:'hamming', 1:'hamming', 2:'tanimoto'})\n",
    "knnone.construct_distance_matrix(alpha={0: 0.15322733, 1:0.07967588, 2: 1})"
   ]
  },
  {
   "cell_type": "markdown",
   "metadata": {},
   "source": [
    "Compute permutation importance. This takes forever due to the large number of (one-hot encoded) features. I did not find a way to consider groups of features for permutation. This might have to be implemented manually..."
   ]
  },
  {
   "cell_type": "code",
   "execution_count": null,
   "metadata": {},
   "outputs": [],
   "source": [
    "acc, perm = knnone.run(n_neighbors=1, leaf_size=60, perm_importance=True)\n",
    "eli5.show_weights(perm, feature_names = knnone.X_test.columns.tolist())\n",
    "with open('output/knn/perm_importance', 'wb') as knn_file:\n",
    "   pickle.dump(perm, knn_file)"
   ]
  }
 ],
 "metadata": {
  "kernelspec": {
   "display_name": "Python 3",
   "language": "python",
   "name": "python3"
  },
  "language_info": {
   "codemirror_mode": {
    "name": "ipython",
    "version": 3
   },
   "file_extension": ".py",
   "mimetype": "text/x-python",
   "name": "python",
   "nbconvert_exporter": "python",
   "pygments_lexer": "ipython3",
   "version": "3.6.10"
  }
 },
 "nbformat": 4,
 "nbformat_minor": 4
}

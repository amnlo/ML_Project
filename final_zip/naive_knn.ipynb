{
 "cells": [
  {
   "cell_type": "markdown",
   "metadata": {},
   "source": [
    "# Running naive KNN\n",
    "\n",
    "This notebook reproduces some analysis conducted in a previous project. It runs the navie form of the KNN classifier using the hamming distance on the categorical features and the euclidian distance on the numeric features."
   ]
  },
  {
   "cell_type": "code",
   "execution_count": 2,
   "metadata": {},
   "outputs": [],
   "source": [
    "import run"
   ]
  },
  {
   "cell_type": "markdown",
   "metadata": {},
   "source": [
    "Run the knn algorithm with binary target classes based on the threshold of 1 mg/l and the multiclass classification. Use the hyperparameters that were selected in the previous part of the project. The results are saved in the `output/` folder. Accuracy is the fraction of correctly classified samples (watch out for skewness in data set!)."
   ]
  },
  {
   "cell_type": "code",
   "execution_count": 4,
   "metadata": {},
   "outputs": [
    {
     "name": "stdout",
     "output_type": "stream",
     "text": [
      "Loading already processed dataset\n",
      "\n",
      "Binary classification algorithm chosen. Evaulating scores..\n",
      "\n",
      "There are 8566 datapoints with label 0 and 14766 datapoints with label 1\n",
      "KNN algorithm chosen!\n",
      "\n",
      "Encoding categorical features for the KNN algorithm...\n",
      "\n",
      "Splitting dataset in train and test...\n",
      "\n",
      "Skipping feature selection for KNN. Best features loaded.\n",
      "\n",
      "CV skipped. Best parameters loaded\n",
      "\n",
      "Best parameters for CV:\n",
      "\t-alpha: 0.010826367338740546\n",
      "\t-k: 1\n",
      "\t-leaf_size: 80\n",
      "\n",
      "Run KNN algorithm with best parameters...\n",
      "Prediction achieved!\n",
      "\n",
      "KNN accuracy: 0.9028571428571428\n",
      "KNN RMSE: 0.31167748898959186\n",
      "\n",
      "Building final dataset for future uses...\n",
      "\n",
      "Saving train predicted dataset at output/knn/knn_train_pred_binary.csv\n",
      "Saving test predicted dataset at output/knn/knn_test_pred_binary.csv\n",
      "Dataset saved!\n",
      "\n"
     ]
    },
    {
     "data": {
      "text/plain": [
       "0"
      ]
     },
     "execution_count": 4,
     "metadata": {},
     "output_type": "execute_result"
    }
   ],
   "source": [
    "run.main(preproc=False, knn=True, mf=False, singleclass=True, multiclass=False, feat_sel=False, cross=False)"
   ]
  },
  {
   "cell_type": "code",
   "execution_count": 5,
   "metadata": {},
   "outputs": [
    {
     "name": "stdout",
     "output_type": "stream",
     "text": [
      "Loading already processed dataset\n",
      "\n",
      "Multi classification algorithm chosen. Evaulating scores..\n",
      "\n",
      "There are 3627 datapoints with label 1\n",
      "There are 5457 datapoints with label 2\n",
      "There are 5824 datapoints with label 3\n",
      "There are 4325 datapoints with label 4\n",
      "There are 4099 datapoints with label 5\n",
      "KNN algorithm chosen!\n",
      "\n",
      "Encoding categorical features for the KNN algorithm...\n",
      "\n",
      "Splitting dataset in train and test...\n",
      "\n",
      "Skipping feature selection for KNN. Best features loaded.\n",
      "\n",
      "CV skipped. Best parameters loaded\n",
      "\n",
      "Best parameters for CV:\n",
      "\t-alpha: 0.017433288221999882\n",
      "\t-k: 1\n",
      "\t-leaf_size: 60\n",
      "\n",
      "Run KNN algorithm with best parameters...\n",
      "Prediction achieved!\n",
      "\n",
      "KNN accuracy: 0.7401428571428571\n",
      "KNN RMSE: 0.687749954561976\n",
      "\n",
      "Building final dataset for future uses...\n",
      "\n",
      "Saving train predicted dataset at output/knn/knn_train_pred_multi.csv\n",
      "Saving test predicted dataset at output/knn/knn_test_pred_multi.csv\n",
      "Dataset saved!\n",
      "\n"
     ]
    },
    {
     "data": {
      "text/plain": [
       "0"
      ]
     },
     "execution_count": 5,
     "metadata": {},
     "output_type": "execute_result"
    }
   ],
   "source": [
    "run.main(preproc=False, knn=True, mf=False, singleclass=False, multiclass=True, feat_sel=False, cross=False)"
   ]
  }
 ],
 "metadata": {
  "kernelspec": {
   "display_name": "Python 3",
   "language": "python",
   "name": "python3"
  },
  "language_info": {
   "codemirror_mode": {
    "name": "ipython",
    "version": 3
   },
   "file_extension": ".py",
   "mimetype": "text/x-python",
   "name": "python",
   "nbconvert_exporter": "python",
   "pygments_lexer": "ipython3",
   "version": "3.6.10"
  }
 },
 "nbformat": 4,
 "nbformat_minor": 2
}

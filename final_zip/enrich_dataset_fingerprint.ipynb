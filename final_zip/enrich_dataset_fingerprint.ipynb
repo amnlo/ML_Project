{
 "cells": [
  {
   "cell_type": "markdown",
   "metadata": {},
   "source": [
    "# Create data set with PubChem2D fingerprint"
   ]
  },
  {
   "cell_type": "code",
   "execution_count": 1,
   "metadata": {},
   "outputs": [],
   "source": [
    "import pubchempy as pcp\n",
    "import pandas as pd\n",
    "import numpy as np"
   ]
  },
  {
   "cell_type": "code",
   "execution_count": 10,
   "metadata": {},
   "outputs": [
    {
     "data": {
      "text/html": [
       "<div>\n",
       "<style scoped>\n",
       "    .dataframe tbody tr th:only-of-type {\n",
       "        vertical-align: middle;\n",
       "    }\n",
       "\n",
       "    .dataframe tbody tr th {\n",
       "        vertical-align: top;\n",
       "    }\n",
       "\n",
       "    .dataframe thead th {\n",
       "        text-align: right;\n",
       "    }\n",
       "</style>\n",
       "<table border=\"1\" class=\"dataframe\">\n",
       "  <thead>\n",
       "    <tr style=\"text-align: right;\">\n",
       "      <th></th>\n",
       "      <th>cas</th>\n",
       "      <th>cid</th>\n",
       "      <th>smiles</th>\n",
       "    </tr>\n",
       "  </thead>\n",
       "  <tbody>\n",
       "    <tr>\n",
       "      <th>0</th>\n",
       "      <td>10108-64-2</td>\n",
       "      <td>24947</td>\n",
       "      <td>[Cl-].[Cl-].[Cd++]</td>\n",
       "    </tr>\n",
       "    <tr>\n",
       "      <th>1</th>\n",
       "      <td>88-30-2</td>\n",
       "      <td>6931</td>\n",
       "      <td>Oc1ccc(c(c1)C(F)(F)F)[N+]([O-])=O</td>\n",
       "    </tr>\n",
       "    <tr>\n",
       "      <th>2</th>\n",
       "      <td>1397-94-0</td>\n",
       "      <td>14957</td>\n",
       "      <td>CCCCCC[C@@H]1[C@@H](OC(=O)CC(C)C)[C@H](C)OC(=O...</td>\n",
       "    </tr>\n",
       "    <tr>\n",
       "      <th>3</th>\n",
       "      <td>540-72-7</td>\n",
       "      <td>516871</td>\n",
       "      <td>[Na+].[S-]C#N</td>\n",
       "    </tr>\n",
       "    <tr>\n",
       "      <th>4</th>\n",
       "      <td>72-43-5</td>\n",
       "      <td>4115</td>\n",
       "      <td>COc1ccc(cc1)C(c2ccc(OC)cc2)C(Cl)(Cl)Cl</td>\n",
       "    </tr>\n",
       "  </tbody>\n",
       "</table>\n",
       "</div>"
      ],
      "text/plain": [
       "          cas     cid                                             smiles\n",
       "0  10108-64-2   24947                                 [Cl-].[Cl-].[Cd++]\n",
       "1     88-30-2    6931                  Oc1ccc(c(c1)C(F)(F)F)[N+]([O-])=O\n",
       "2   1397-94-0   14957  CCCCCC[C@@H]1[C@@H](OC(=O)CC(C)C)[C@H](C)OC(=O...\n",
       "3    540-72-7  516871                                      [Na+].[S-]C#N\n",
       "4     72-43-5    4115             COc1ccc(cc1)C(c2ccc(OC)cc2)C(Cl)(Cl)Cl"
      ]
     },
     "execution_count": 10,
     "metadata": {},
     "output_type": "execute_result"
    }
   ],
   "source": [
    "final_db = pd.read_csv('data/processed/final_db_processed.csv')\n",
    "\n",
    "cas_to_smiles = pd.read_csv('data/processed/cas_to_smiles.csv')\n",
    "cas_to_smiles = cas_to_smiles.drop(columns=cas_to_smiles.columns[0])\n",
    "\n",
    "cas_to_pubchemcid = pd.read_csv('data/processed/cas_to_pubchemcid.csv')\n",
    "cas_to_pubchemcid = cas_to_pubchemcid.drop(columns=cas_to_pubchemcid.columns[0])\n",
    "cas_to_pubchemcid.cid = cas_to_pubchemcid.cid.fillna(-1)\n",
    "\n",
    "data = pd.merge(cas_to_smiles, cas_to_pubchemcid, on='cas')\n",
    "data.cid = data.cid.astype(int)\n",
    "data = data[['cas','cid','smiles']] # rearrange columns\n",
    "data.head()"
   ]
  },
  {
   "cell_type": "markdown",
   "metadata": {},
   "source": [
    "Get the PubChem2D fingerprint based on the smiles or the CID (whichever is available)."
   ]
  },
  {
   "cell_type": "code",
   "execution_count": 68,
   "metadata": {},
   "outputs": [],
   "source": [
    "def get_finger(x):\n",
    "    try:\n",
    "        # try to get fingerprint from the smiles (safer)\n",
    "        y = pcp.get_compounds(x[2],'smiles')[0].cactvs_fingerprint\n",
    "    except:\n",
    "        # if it doesn't work, get the fingerprint from the CID\n",
    "        if x[1]==-1:\n",
    "            # if the CID is missing, return NaN\n",
    "            y = 'NaN'\n",
    "        else:\n",
    "            if isinstance(x[1], np.int32):\n",
    "                x[1] = x[1].item()\n",
    "            y = pcp.Compound.from_cid(x[1]).cactvs_fingerprint\n",
    "    with open('data/processed/cas_pubchemfinger.csv','a') as fd:\n",
    "        fd.write(','.join([str(x[0]),''.join([str(y),'\\n'])]))\n",
    "    return y\n",
    "\n",
    "#c = get_finger(data.iloc[349,])\n",
    "c = data.apply(func=get_finger, axis=1)"
   ]
  },
  {
   "cell_type": "markdown",
   "metadata": {},
   "source": [
    "Add the fingerprint that was written in the cell above to the ecotoxicological data. Drop samples that contain an NA value."
   ]
  },
  {
   "cell_type": "code",
   "execution_count": 44,
   "metadata": {},
   "outputs": [],
   "source": [
    "cas_to_finger = pd.read_csv('data/processed/cas_pubchemfinger.csv', names=['test_cas','fingerprint'])\n",
    "# drop duplicates (there are still different CAS with the same fingerprint, which is ok)\n",
    "cas_to_finger = cas_to_finger[~cas_to_finger.duplicated()].dropna()\n",
    "final_db_update = pd.merge(final_db, cas_to_finger, on='test_cas')\n",
    "final_db_update = final_db_update.drop(columns=['test_cas', 'atom_number', 'alone_atom_number', 'tripleBond','doubleBond', 'bonds_number', 'ring_number', 'Mol', \n",
    "    'MorganDensity', 'LogP'])\n",
    "final_db_update.to_csv(\"data/processed/final_db_update.csv\", index=False)"
   ]
  }
 ],
 "metadata": {
  "kernelspec": {
   "display_name": "Python 3",
   "language": "python",
   "name": "python3"
  },
  "language_info": {
   "codemirror_mode": {
    "name": "ipython",
    "version": 3
   },
   "file_extension": ".py",
   "mimetype": "text/x-python",
   "name": "python",
   "nbconvert_exporter": "python",
   "pygments_lexer": "ipython3",
   "version": "3.6.10"
  }
 },
 "nbformat": 4,
 "nbformat_minor": 4
}
